{
 "cells": [
  {
   "cell_type": "code",
   "execution_count": 1,
   "id": "d51843c1-b849-4b9b-8f1e-ed3e56774f0c",
   "metadata": {},
   "outputs": [],
   "source": [
    "a=10"
   ]
  },
  {
   "cell_type": "code",
   "execution_count": 2,
   "id": "100cc332-86ed-4faf-aae4-f1437fd0a71e",
   "metadata": {},
   "outputs": [
    {
     "data": {
      "text/plain": [
       "10"
      ]
     },
     "execution_count": 2,
     "metadata": {},
     "output_type": "execute_result"
    }
   ],
   "source": [
    "a"
   ]
  },
  {
   "cell_type": "code",
   "execution_count": 3,
   "id": "4572c030-12c0-4cea-a6b4-78c9e8880f8c",
   "metadata": {},
   "outputs": [],
   "source": [
    "murali=20"
   ]
  },
  {
   "cell_type": "code",
   "execution_count": 4,
   "id": "7be36abe-00e0-4dc6-9603-171573e1e784",
   "metadata": {},
   "outputs": [
    {
     "data": {
      "text/plain": [
       "20"
      ]
     },
     "execution_count": 4,
     "metadata": {},
     "output_type": "execute_result"
    }
   ],
   "source": [
    "murali"
   ]
  },
  {
   "cell_type": "code",
   "execution_count": 5,
   "id": "2d5c4356-f114-42cb-871a-a75922651db1",
   "metadata": {},
   "outputs": [
    {
     "data": {
      "text/plain": [
       "30"
      ]
     },
     "execution_count": 5,
     "metadata": {},
     "output_type": "execute_result"
    }
   ],
   "source": [
    "a+murali"
   ]
  },
  {
   "cell_type": "code",
   "execution_count": 6,
   "id": "f641d675-2aab-45ff-ab94-96109d67e299",
   "metadata": {},
   "outputs": [
    {
     "data": {
      "text/plain": [
       "int"
      ]
     },
     "execution_count": 6,
     "metadata": {},
     "output_type": "execute_result"
    }
   ],
   "source": [
    "type(a)"
   ]
  },
  {
   "cell_type": "code",
   "execution_count": 7,
   "id": "36b6069c-74aa-4446-848f-b7cb73efc4e6",
   "metadata": {},
   "outputs": [
    {
     "data": {
      "text/plain": [
       "int"
      ]
     },
     "execution_count": 7,
     "metadata": {},
     "output_type": "execute_result"
    }
   ],
   "source": [
    "type(murali)"
   ]
  },
  {
   "cell_type": "code",
   "execution_count": 8,
   "id": "a7962e15-be56-4ede-8419-f882b83cb73f",
   "metadata": {},
   "outputs": [],
   "source": [
    "b=2.5642"
   ]
  },
  {
   "cell_type": "code",
   "execution_count": 9,
   "id": "dc1d3427-dab3-4b7a-b4e5-1bfac2fb9ffd",
   "metadata": {},
   "outputs": [
    {
     "data": {
      "text/plain": [
       "float"
      ]
     },
     "execution_count": 9,
     "metadata": {},
     "output_type": "execute_result"
    }
   ],
   "source": [
    "type(b)"
   ]
  },
  {
   "cell_type": "code",
   "execution_count": 10,
   "id": "e0e501a7-fd2d-4d04-8167-f18847da7503",
   "metadata": {},
   "outputs": [],
   "source": [
    "d='murali'"
   ]
  },
  {
   "cell_type": "code",
   "execution_count": 11,
   "id": "5bcdcd62-1880-4113-8e77-2089f5dd5adf",
   "metadata": {},
   "outputs": [
    {
     "data": {
      "text/plain": [
       "str"
      ]
     },
     "execution_count": 11,
     "metadata": {},
     "output_type": "execute_result"
    }
   ],
   "source": [
    "type(d)"
   ]
  },
  {
   "cell_type": "code",
   "execution_count": 12,
   "id": "5fac62c2-d364-4c85-8158-c2786b8e55cb",
   "metadata": {},
   "outputs": [],
   "source": [
    "e='this is dehri on sone'"
   ]
  },
  {
   "cell_type": "code",
   "execution_count": 13,
   "id": "128eaa40-7cde-48b1-baeb-c8885d14d2df",
   "metadata": {},
   "outputs": [
    {
     "data": {
      "text/plain": [
       "str"
      ]
     },
     "execution_count": 13,
     "metadata": {},
     "output_type": "execute_result"
    }
   ],
   "source": [
    "type(e)"
   ]
  },
  {
   "cell_type": "code",
   "execution_count": 14,
   "id": "00c314c5-f9f0-48e8-abee-4a71066907bd",
   "metadata": {},
   "outputs": [],
   "source": [
    "n=True"
   ]
  },
  {
   "cell_type": "code",
   "execution_count": 15,
   "id": "c923a49f-d2aa-4acf-a1a8-8c20e5efee98",
   "metadata": {},
   "outputs": [
    {
     "data": {
      "text/plain": [
       "bool"
      ]
     },
     "execution_count": 15,
     "metadata": {},
     "output_type": "execute_result"
    }
   ],
   "source": [
    "type(n)"
   ]
  },
  {
   "cell_type": "code",
   "execution_count": 16,
   "id": "1cb11cbd-50b3-44c9-8e30-18abee9320ac",
   "metadata": {},
   "outputs": [],
   "source": [
    "m=False"
   ]
  },
  {
   "cell_type": "code",
   "execution_count": 17,
   "id": "5dec6c95-3b22-4221-b1ea-2b5b900b836b",
   "metadata": {},
   "outputs": [
    {
     "data": {
      "text/plain": [
       "bool"
      ]
     },
     "execution_count": 17,
     "metadata": {},
     "output_type": "execute_result"
    }
   ],
   "source": [
    "type(m)"
   ]
  },
  {
   "cell_type": "code",
   "execution_count": 18,
   "id": "e43b54a6-2939-4a5d-95da-6e299223b296",
   "metadata": {},
   "outputs": [
    {
     "data": {
      "text/plain": [
       "1"
      ]
     },
     "execution_count": 18,
     "metadata": {},
     "output_type": "execute_result"
    }
   ],
   "source": [
    "n+m"
   ]
  },
  {
   "cell_type": "code",
   "execution_count": 19,
   "id": "cd72b195-3d81-4b75-beba-ac8a4da9b62c",
   "metadata": {},
   "outputs": [
    {
     "ename": "ZeroDivisionError",
     "evalue": "division by zero",
     "output_type": "error",
     "traceback": [
      "\u001b[0;31m---------------------------------------------------------------------------\u001b[0m",
      "\u001b[0;31mZeroDivisionError\u001b[0m                         Traceback (most recent call last)",
      "Cell \u001b[0;32mIn[19], line 1\u001b[0m\n\u001b[0;32m----> 1\u001b[0m \u001b[43mn\u001b[49m\u001b[38;5;241;43m/\u001b[39;49m\u001b[43mm\u001b[49m\n",
      "\u001b[0;31mZeroDivisionError\u001b[0m: division by zero"
     ]
    }
   ],
   "source": [
    "n/m"
   ]
  },
  {
   "cell_type": "code",
   "execution_count": 20,
   "id": "405edf69-a75b-4d48-9380-53d8e2a93548",
   "metadata": {},
   "outputs": [
    {
     "data": {
      "text/plain": [
       "0.0"
      ]
     },
     "execution_count": 20,
     "metadata": {},
     "output_type": "execute_result"
    }
   ],
   "source": [
    "m/n"
   ]
  },
  {
   "cell_type": "code",
   "execution_count": 21,
   "id": "7471a9fa-4610-4954-ae80-41e0a8eaeedc",
   "metadata": {},
   "outputs": [
    {
     "data": {
      "text/plain": [
       "1"
      ]
     },
     "execution_count": 21,
     "metadata": {},
     "output_type": "execute_result"
    }
   ],
   "source": [
    "True*True"
   ]
  },
  {
   "cell_type": "code",
   "execution_count": 22,
   "id": "e356fc11-bb04-4721-979c-8d317d663bd8",
   "metadata": {},
   "outputs": [
    {
     "data": {
      "text/plain": [
       "0"
      ]
     },
     "execution_count": 22,
     "metadata": {},
     "output_type": "execute_result"
    }
   ],
   "source": [
    "False*False"
   ]
  },
  {
   "cell_type": "code",
   "execution_count": 23,
   "id": "d7dd71be-c486-480b-afd3-783d4ed8a816",
   "metadata": {},
   "outputs": [
    {
     "data": {
      "text/plain": [
       "0"
      ]
     },
     "execution_count": 23,
     "metadata": {},
     "output_type": "execute_result"
    }
   ],
   "source": [
    "True*False"
   ]
  },
  {
   "cell_type": "code",
   "execution_count": 25,
   "id": "3b60c7cd-2abb-4dbe-8f54-5b5f0198805f",
   "metadata": {},
   "outputs": [
    {
     "ename": "ZeroDivisionError",
     "evalue": "division by zero",
     "output_type": "error",
     "traceback": [
      "\u001b[0;31m---------------------------------------------------------------------------\u001b[0m",
      "\u001b[0;31mZeroDivisionError\u001b[0m                         Traceback (most recent call last)",
      "Cell \u001b[0;32mIn[25], line 1\u001b[0m\n\u001b[0;32m----> 1\u001b[0m \u001b[38;5;241;43m1\u001b[39;49m\u001b[38;5;241;43m/\u001b[39;49m\u001b[38;5;241;43m0\u001b[39;49m\n",
      "\u001b[0;31mZeroDivisionError\u001b[0m: division by zero"
     ]
    }
   ],
   "source": [
    "1/0"
   ]
  },
  {
   "cell_type": "code",
   "execution_count": 26,
   "id": "6829c625-ad4a-46c9-8fbc-40fe8db5950b",
   "metadata": {},
   "outputs": [],
   "source": [
    "v=8+5j"
   ]
  },
  {
   "cell_type": "code",
   "execution_count": 27,
   "id": "a2af916b-1142-43b2-ac25-69573e931b73",
   "metadata": {},
   "outputs": [
    {
     "data": {
      "text/plain": [
       "complex"
      ]
     },
     "execution_count": 27,
     "metadata": {},
     "output_type": "execute_result"
    }
   ],
   "source": [
    "type(v)"
   ]
  },
  {
   "cell_type": "code",
   "execution_count": 28,
   "id": "31e0326d-3659-484f-8810-02c5692b040c",
   "metadata": {},
   "outputs": [
    {
     "data": {
      "text/plain": [
       "8.0"
      ]
     },
     "execution_count": 28,
     "metadata": {},
     "output_type": "execute_result"
    }
   ],
   "source": [
    "v.real"
   ]
  },
  {
   "cell_type": "code",
   "execution_count": 32,
   "id": "4d1eef45-481e-484a-a29f-066baee3a408",
   "metadata": {},
   "outputs": [
    {
     "data": {
      "text/plain": [
       "5.0"
      ]
     },
     "execution_count": 32,
     "metadata": {},
     "output_type": "execute_result"
    }
   ],
   "source": [
    "v.imag"
   ]
  },
  {
   "cell_type": "code",
   "execution_count": 33,
   "id": "d032d23e-74db-4331-95d5-322b0735cfb5",
   "metadata": {},
   "outputs": [],
   "source": [
    "murali=3+8j"
   ]
  },
  {
   "cell_type": "code",
   "execution_count": 34,
   "id": "f5647861-3353-4062-89bc-97091964cda2",
   "metadata": {},
   "outputs": [
    {
     "data": {
      "text/plain": [
       "complex"
      ]
     },
     "execution_count": 34,
     "metadata": {},
     "output_type": "execute_result"
    }
   ],
   "source": [
    "type(murali)"
   ]
  },
  {
   "cell_type": "code",
   "execution_count": 57,
   "id": "ad5949f4-d1f9-420d-957f-41577d0675b6",
   "metadata": {},
   "outputs": [
    {
     "data": {
      "text/plain": [
       "3.0"
      ]
     },
     "execution_count": 57,
     "metadata": {},
     "output_type": "execute_result"
    }
   ],
   "source": [
    "murali.real"
   ]
  },
  {
   "cell_type": "code",
   "execution_count": 36,
   "id": "ba9d06bd-ac49-46c4-b88c-8cc0c55d80c6",
   "metadata": {},
   "outputs": [
    {
     "data": {
      "text/plain": [
       "(3+8j)"
      ]
     },
     "execution_count": 36,
     "metadata": {},
     "output_type": "execute_result"
    }
   ],
   "source": [
    "murali"
   ]
  },
  {
   "cell_type": "code",
   "execution_count": 37,
   "id": "91dbf37f-395f-4635-8143-8c27d599eab6",
   "metadata": {},
   "outputs": [
    {
     "name": "stdout",
     "output_type": "stream",
     "text": [
      "this is my house\n"
     ]
    }
   ],
   "source": [
    "print(\"this is my house\")"
   ]
  },
  {
   "cell_type": "code",
   "execution_count": 38,
   "id": "87e98d48-4224-4c01-b76d-b51b6bf3b31d",
   "metadata": {},
   "outputs": [
    {
     "name": "stdout",
     "output_type": "stream",
     "text": [
      "(3+8j)\n"
     ]
    }
   ],
   "source": [
    "print(murali)"
   ]
  },
  {
   "cell_type": "code",
   "execution_count": 39,
   "id": "dcb8dfe7-e13f-4891-b2d9-de102d67ef70",
   "metadata": {},
   "outputs": [
    {
     "name": "stdout",
     "output_type": "stream",
     "text": [
      "murali\n"
     ]
    }
   ],
   "source": [
    "print(\"murali\")"
   ]
  },
  {
   "cell_type": "code",
   "execution_count": 40,
   "id": "32bbcb52-9680-4403-a248-69c45f8590c3",
   "metadata": {},
   "outputs": [
    {
     "name": "stdout",
     "output_type": "stream",
     "text": [
      "2.5642\n"
     ]
    }
   ],
   "source": [
    "print(b)"
   ]
  },
  {
   "cell_type": "code",
   "execution_count": 41,
   "id": "f2e30a29-99cb-4565-897f-befbcd374e3a",
   "metadata": {},
   "outputs": [],
   "source": [
    "s=\"pwskills\""
   ]
  },
  {
   "cell_type": "code",
   "execution_count": 42,
   "id": "e78fcce8-b755-4215-8761-672a37ce17f3",
   "metadata": {},
   "outputs": [
    {
     "data": {
      "text/plain": [
       "str"
      ]
     },
     "execution_count": 42,
     "metadata": {},
     "output_type": "execute_result"
    }
   ],
   "source": [
    "type(s)"
   ]
  },
  {
   "cell_type": "code",
   "execution_count": 43,
   "id": "e2ae2435-4caf-4113-bbd9-19055bdc313d",
   "metadata": {},
   "outputs": [
    {
     "data": {
      "text/plain": [
       "'w'"
      ]
     },
     "execution_count": 43,
     "metadata": {},
     "output_type": "execute_result"
    }
   ],
   "source": [
    "s[1]"
   ]
  },
  {
   "cell_type": "code",
   "execution_count": 44,
   "id": "36cb3fab-9668-48d1-b7ad-1ee92a822ae4",
   "metadata": {},
   "outputs": [
    {
     "data": {
      "text/plain": [
       "'p'"
      ]
     },
     "execution_count": 44,
     "metadata": {},
     "output_type": "execute_result"
    }
   ],
   "source": [
    "s[0]"
   ]
  },
  {
   "cell_type": "code",
   "execution_count": 45,
   "id": "f7521cfa-82c7-4278-bf76-a57edadd446a",
   "metadata": {},
   "outputs": [
    {
     "data": {
      "text/plain": [
       "'s'"
      ]
     },
     "execution_count": 45,
     "metadata": {},
     "output_type": "execute_result"
    }
   ],
   "source": [
    "s[-1]"
   ]
  },
  {
   "cell_type": "code",
   "execution_count": 46,
   "id": "cd274201-3e90-4187-ac88-9e99d97d10a1",
   "metadata": {},
   "outputs": [
    {
     "data": {
      "text/plain": [
       "'i'"
      ]
     },
     "execution_count": 46,
     "metadata": {},
     "output_type": "execute_result"
    }
   ],
   "source": [
    "s[-4]"
   ]
  },
  {
   "cell_type": "code",
   "execution_count": 47,
   "id": "a564b6be-a7da-4232-9ee2-9c3cf915d80e",
   "metadata": {},
   "outputs": [
    {
     "data": {
      "text/plain": [
       "'p'"
      ]
     },
     "execution_count": 47,
     "metadata": {},
     "output_type": "execute_result"
    }
   ],
   "source": [
    "s[-8]"
   ]
  },
  {
   "cell_type": "code",
   "execution_count": 48,
   "id": "bf0331d4-0fa2-47a4-910e-a5d6615dac60",
   "metadata": {},
   "outputs": [
    {
     "data": {
      "text/plain": [
       "'pws'"
      ]
     },
     "execution_count": 48,
     "metadata": {},
     "output_type": "execute_result"
    }
   ],
   "source": [
    "s[0:3]"
   ]
  },
  {
   "cell_type": "code",
   "execution_count": 49,
   "id": "14916346-c807-4e10-9923-f71abd747aac",
   "metadata": {},
   "outputs": [
    {
     "data": {
      "text/plain": [
       "'pw'"
      ]
     },
     "execution_count": 49,
     "metadata": {},
     "output_type": "execute_result"
    }
   ],
   "source": [
    "s[0:2]"
   ]
  },
  {
   "cell_type": "code",
   "execution_count": 50,
   "id": "f9b73245-c2e9-4d24-b4ab-16326af804c1",
   "metadata": {},
   "outputs": [
    {
     "data": {
      "text/plain": [
       "'pw'"
      ]
     },
     "execution_count": 50,
     "metadata": {},
     "output_type": "execute_result"
    }
   ],
   "source": [
    "s[0:2:1]"
   ]
  },
  {
   "cell_type": "code",
   "execution_count": 51,
   "id": "a2f7e6f1-b7c6-4ec7-a8b3-37c30b0d8cf6",
   "metadata": {},
   "outputs": [
    {
     "data": {
      "text/plain": [
       "'psil'"
      ]
     },
     "execution_count": 51,
     "metadata": {},
     "output_type": "execute_result"
    }
   ],
   "source": [
    "s[0:8:2]"
   ]
  },
  {
   "cell_type": "code",
   "execution_count": 52,
   "id": "e5956324-9293-4b72-8c2d-2dc7e1220678",
   "metadata": {},
   "outputs": [
    {
     "data": {
      "text/plain": [
       "'psil'"
      ]
     },
     "execution_count": 52,
     "metadata": {},
     "output_type": "execute_result"
    }
   ],
   "source": [
    "s[::2]"
   ]
  },
  {
   "cell_type": "code",
   "execution_count": 53,
   "id": "97b66ca6-de7d-4ebd-9fb7-06bb4838c69d",
   "metadata": {},
   "outputs": [
    {
     "data": {
      "text/plain": [
       "'psil'"
      ]
     },
     "execution_count": 53,
     "metadata": {},
     "output_type": "execute_result"
    }
   ],
   "source": [
    "s[0::2]"
   ]
  },
  {
   "cell_type": "code",
   "execution_count": 54,
   "id": "ebb517a8-b162-44d7-9949-e1032c6b41e0",
   "metadata": {},
   "outputs": [
    {
     "data": {
      "text/plain": [
       "'sil'"
      ]
     },
     "execution_count": 54,
     "metadata": {},
     "output_type": "execute_result"
    }
   ],
   "source": [
    "s[2::2]"
   ]
  },
  {
   "cell_type": "code",
   "execution_count": 55,
   "id": "efdce4ec-4eac-4c90-8c63-6e580eeb41e9",
   "metadata": {},
   "outputs": [
    {
     "ename": "ValueError",
     "evalue": "slice step cannot be zero",
     "output_type": "error",
     "traceback": [
      "\u001b[0;31m---------------------------------------------------------------------------\u001b[0m",
      "\u001b[0;31mValueError\u001b[0m                                Traceback (most recent call last)",
      "Cell \u001b[0;32mIn[55], line 1\u001b[0m\n\u001b[0;32m----> 1\u001b[0m \u001b[43ms\u001b[49m\u001b[43m[\u001b[49m\u001b[38;5;241;43m2\u001b[39;49m\u001b[43m:\u001b[49m\u001b[43m:\u001b[49m\u001b[38;5;241;43m0\u001b[39;49m\u001b[43m]\u001b[49m\n",
      "\u001b[0;31mValueError\u001b[0m: slice step cannot be zero"
     ]
    }
   ],
   "source": [
    "s[2::0]"
   ]
  },
  {
   "cell_type": "code",
   "execution_count": 58,
   "id": "111c09af-318c-48d1-8df0-4c777d6f6c2e",
   "metadata": {},
   "outputs": [
    {
     "data": {
      "text/plain": [
       "'sllikswp'"
      ]
     },
     "execution_count": 58,
     "metadata": {},
     "output_type": "execute_result"
    }
   ],
   "source": [
    "s[::-1]"
   ]
  },
  {
   "cell_type": "code",
   "execution_count": 59,
   "id": "30dd5569-ae72-4a03-af31-030b411225fc",
   "metadata": {},
   "outputs": [
    {
     "data": {
      "text/plain": [
       "''"
      ]
     },
     "execution_count": 59,
     "metadata": {},
     "output_type": "execute_result"
    }
   ],
   "source": [
    "s[2:7:-1]"
   ]
  },
  {
   "cell_type": "code",
   "execution_count": 60,
   "id": "3c780fa6-ef2f-4f51-bc34-ed740d066489",
   "metadata": {},
   "outputs": [
    {
     "data": {
      "text/plain": [
       "''"
      ]
     },
     "execution_count": 60,
     "metadata": {},
     "output_type": "execute_result"
    }
   ],
   "source": [
    "s[8:0]"
   ]
  },
  {
   "cell_type": "code",
   "execution_count": 62,
   "id": "b639b535-6ba1-4674-ae7d-4b17469854ac",
   "metadata": {},
   "outputs": [
    {
     "data": {
      "text/plain": [
       "'slliksw'"
      ]
     },
     "execution_count": 62,
     "metadata": {},
     "output_type": "execute_result"
    }
   ],
   "source": [
    "s[8:0:-1]"
   ]
  },
  {
   "cell_type": "code",
   "execution_count": 4,
   "id": "4d2cc2c1-c994-4c91-815b-e80e4951fa07",
   "metadata": {},
   "outputs": [],
   "source": [
    "s=\"pwskills\""
   ]
  },
  {
   "cell_type": "code",
   "execution_count": 5,
   "id": "923bbb7c-dd90-4fbb-9965-eb4baf3adce9",
   "metadata": {},
   "outputs": [
    {
     "data": {
      "text/plain": [
       "str"
      ]
     },
     "execution_count": 5,
     "metadata": {},
     "output_type": "execute_result"
    }
   ],
   "source": [
    "type(s)"
   ]
  },
  {
   "cell_type": "code",
   "execution_count": 9,
   "id": "1c186a26-acbe-4476-bfd9-0f2b6840eaef",
   "metadata": {},
   "outputs": [
    {
     "data": {
      "text/plain": [
       "'pwskills'"
      ]
     },
     "execution_count": 9,
     "metadata": {},
     "output_type": "execute_result"
    }
   ],
   "source": [
    "s[0:8]"
   ]
  },
  {
   "cell_type": "code",
   "execution_count": 10,
   "id": "96b5b5f9-869c-439f-ac2d-3ce262cee8a6",
   "metadata": {},
   "outputs": [
    {
     "data": {
      "text/plain": [
       "''"
      ]
     },
     "execution_count": 10,
     "metadata": {},
     "output_type": "execute_result"
    }
   ],
   "source": [
    "s[-2:-8:1]"
   ]
  },
  {
   "cell_type": "code",
   "execution_count": 11,
   "id": "b99c66f5-10f5-4ffa-a906-7c8861e0f8d0",
   "metadata": {},
   "outputs": [
    {
     "data": {
      "text/plain": [
       "'lliksw'"
      ]
     },
     "execution_count": 11,
     "metadata": {},
     "output_type": "execute_result"
    }
   ],
   "source": [
    "s[-2:-8:-1]"
   ]
  },
  {
   "cell_type": "code",
   "execution_count": 12,
   "id": "2d2a4dd2-4130-454c-bd7e-f52113f5461f",
   "metadata": {},
   "outputs": [
    {
     "data": {
      "text/plain": [
       "'llikswp'"
      ]
     },
     "execution_count": 12,
     "metadata": {},
     "output_type": "execute_result"
    }
   ],
   "source": [
    "s[-2::-1]"
   ]
  },
  {
   "cell_type": "code",
   "execution_count": 13,
   "id": "9fc847c4-d993-4157-bed1-8dff695bb5ab",
   "metadata": {},
   "outputs": [
    {
     "data": {
      "text/plain": [
       "'sllikswp'"
      ]
     },
     "execution_count": 13,
     "metadata": {},
     "output_type": "execute_result"
    }
   ],
   "source": [
    "s[::-1]"
   ]
  },
  {
   "cell_type": "code",
   "execution_count": 14,
   "id": "d4e4453e-f830-40e4-a694-41c3704a6aab",
   "metadata": {},
   "outputs": [
    {
     "data": {
      "text/plain": [
       "''"
      ]
     },
     "execution_count": 14,
     "metadata": {},
     "output_type": "execute_result"
    }
   ],
   "source": [
    "s[:8:-1]"
   ]
  },
  {
   "cell_type": "code",
   "execution_count": 15,
   "id": "1ffb5e10-8e95-4976-b10d-d343ab020559",
   "metadata": {},
   "outputs": [
    {
     "data": {
      "text/plain": [
       "'pwskills'"
      ]
     },
     "execution_count": 15,
     "metadata": {},
     "output_type": "execute_result"
    }
   ],
   "source": [
    "s[::]"
   ]
  },
  {
   "cell_type": "code",
   "execution_count": 16,
   "id": "71b32931-ff2e-402c-840c-544eda56adc8",
   "metadata": {},
   "outputs": [
    {
     "data": {
      "text/plain": [
       "'pwskills'"
      ]
     },
     "execution_count": 16,
     "metadata": {},
     "output_type": "execute_result"
    }
   ],
   "source": [
    "s[::1]"
   ]
  },
  {
   "cell_type": "code",
   "execution_count": 17,
   "id": "712b288e-e9f1-4578-9b8b-ec48498bc2c4",
   "metadata": {},
   "outputs": [
    {
     "ename": "IndexError",
     "evalue": "string index out of range",
     "output_type": "error",
     "traceback": [
      "\u001b[0;31m---------------------------------------------------------------------------\u001b[0m",
      "\u001b[0;31mIndexError\u001b[0m                                Traceback (most recent call last)",
      "Cell \u001b[0;32mIn[17], line 1\u001b[0m\n\u001b[0;32m----> 1\u001b[0m \u001b[43ms\u001b[49m\u001b[43m[\u001b[49m\u001b[38;5;241;43m90\u001b[39;49m\u001b[43m]\u001b[49m\n",
      "\u001b[0;31mIndexError\u001b[0m: string index out of range"
     ]
    }
   ],
   "source": [
    "s[90]"
   ]
  },
  {
   "cell_type": "code",
   "execution_count": 18,
   "id": "a7ffb444-e572-4dc3-807d-61a84de5e70f",
   "metadata": {},
   "outputs": [
    {
     "ename": "IndexError",
     "evalue": "string index out of range",
     "output_type": "error",
     "traceback": [
      "\u001b[0;31m---------------------------------------------------------------------------\u001b[0m",
      "\u001b[0;31mIndexError\u001b[0m                                Traceback (most recent call last)",
      "Cell \u001b[0;32mIn[18], line 1\u001b[0m\n\u001b[0;32m----> 1\u001b[0m \u001b[43ms\u001b[49m\u001b[43m[\u001b[49m\u001b[38;5;241;43m-\u001b[39;49m\u001b[38;5;241;43m90\u001b[39;49m\u001b[43m]\u001b[49m\n",
      "\u001b[0;31mIndexError\u001b[0m: string index out of range"
     ]
    }
   ],
   "source": [
    "s[-90]"
   ]
  },
  {
   "cell_type": "code",
   "execution_count": 19,
   "id": "729f5b47-278e-4b3a-a124-f7cec0e2fc23",
   "metadata": {},
   "outputs": [
    {
     "data": {
      "text/plain": [
       "'pwskills'"
      ]
     },
     "execution_count": 19,
     "metadata": {},
     "output_type": "execute_result"
    }
   ],
   "source": [
    "s[:90:]"
   ]
  },
  {
   "cell_type": "code",
   "execution_count": 20,
   "id": "5a45e94f-a447-4f35-8413-789f868a9dce",
   "metadata": {},
   "outputs": [
    {
     "data": {
      "text/plain": [
       "''"
      ]
     },
     "execution_count": 20,
     "metadata": {},
     "output_type": "execute_result"
    }
   ],
   "source": [
    "s[:-90:]"
   ]
  },
  {
   "cell_type": "code",
   "execution_count": 22,
   "id": "bcefa8a5-896b-4289-bf1c-9d87ffb8417c",
   "metadata": {},
   "outputs": [
    {
     "data": {
      "text/plain": [
       "'sllikswp'"
      ]
     },
     "execution_count": 22,
     "metadata": {},
     "output_type": "execute_result"
    }
   ],
   "source": [
    "s[:-90:-1]"
   ]
  },
  {
   "cell_type": "code",
   "execution_count": 23,
   "id": "a087c55a-e6de-47d0-a210-2cf02be38d96",
   "metadata": {},
   "outputs": [],
   "source": [
    "c=\"loo\""
   ]
  },
  {
   "cell_type": "code",
   "execution_count": 1,
   "id": "89889323-20b7-4dde-a82e-ade6d0aa89cb",
   "metadata": {},
   "outputs": [
    {
     "ename": "NameError",
     "evalue": "name 'c' is not defined",
     "output_type": "error",
     "traceback": [
      "\u001b[0;31m---------------------------------------------------------------------------\u001b[0m",
      "\u001b[0;31mNameError\u001b[0m                                 Traceback (most recent call last)",
      "Cell \u001b[0;32mIn[1], line 1\u001b[0m\n\u001b[0;32m----> 1\u001b[0m \u001b[43mc\u001b[49m[\u001b[38;5;241m1\u001b[39m:\u001b[38;5;241m2\u001b[39m]\n",
      "\u001b[0;31mNameError\u001b[0m: name 'c' is not defined"
     ]
    }
   ],
   "source": [
    "c[1:2]"
   ]
  },
  {
   "cell_type": "code",
   "execution_count": 2,
   "id": "677f6f9a-0cd7-4350-b9ac-48fd7e775369",
   "metadata": {},
   "outputs": [
    {
     "ename": "NameError",
     "evalue": "name 'c' is not defined",
     "output_type": "error",
     "traceback": [
      "\u001b[0;31m---------------------------------------------------------------------------\u001b[0m",
      "\u001b[0;31mNameError\u001b[0m                                 Traceback (most recent call last)",
      "Cell \u001b[0;32mIn[2], line 1\u001b[0m\n\u001b[0;32m----> 1\u001b[0m \u001b[43mc\u001b[49m[\u001b[38;5;241m0\u001b[39m:\u001b[38;5;241m2\u001b[39m]\n",
      "\u001b[0;31mNameError\u001b[0m: name 'c' is not defined"
     ]
    }
   ],
   "source": [
    "c[0:2]"
   ]
  },
  {
   "cell_type": "code",
   "execution_count": 3,
   "id": "e22f43e0-2607-404b-a9e6-722f8a13ee1b",
   "metadata": {},
   "outputs": [],
   "source": [
    "d=\"bright\"\n"
   ]
  },
  {
   "cell_type": "code",
   "execution_count": 4,
   "id": "c5d7569e-c8be-40d3-9d48-d91613f4bc9a",
   "metadata": {},
   "outputs": [
    {
     "data": {
      "text/plain": [
       "str"
      ]
     },
     "execution_count": 4,
     "metadata": {},
     "output_type": "execute_result"
    }
   ],
   "source": [
    "type(d)"
   ]
  },
  {
   "cell_type": "code",
   "execution_count": 5,
   "id": "1f0d6ad8-13f5-4fdc-834b-0f875e69e200",
   "metadata": {},
   "outputs": [
    {
     "data": {
      "text/plain": [
       "'brig'"
      ]
     },
     "execution_count": 5,
     "metadata": {},
     "output_type": "execute_result"
    }
   ],
   "source": [
    "d[0:4]"
   ]
  },
  {
   "cell_type": "code",
   "execution_count": 6,
   "id": "f1fcb33e-0fae-4eca-bb47-5a59bc246ab4",
   "metadata": {},
   "outputs": [],
   "source": [
    "c=\"loo\""
   ]
  },
  {
   "cell_type": "code",
   "execution_count": 7,
   "id": "d3ba5b7d-7250-4ad2-8ab5-9af05ac9e432",
   "metadata": {},
   "outputs": [
    {
     "data": {
      "text/plain": [
       "'lo'"
      ]
     },
     "execution_count": 7,
     "metadata": {},
     "output_type": "execute_result"
    }
   ],
   "source": [
    "c[0:2]"
   ]
  },
  {
   "cell_type": "code",
   "execution_count": 8,
   "id": "d626c1ca-2814-467d-9d8e-58364a68bca8",
   "metadata": {},
   "outputs": [
    {
     "data": {
      "text/plain": [
       "'o'"
      ]
     },
     "execution_count": 8,
     "metadata": {},
     "output_type": "execute_result"
    }
   ],
   "source": [
    "c[1:2]"
   ]
  },
  {
   "cell_type": "code",
   "execution_count": 13,
   "id": "f1b9ca5f-8df3-4d43-9429-de1820127c85",
   "metadata": {},
   "outputs": [
    {
     "data": {
      "text/plain": [
       "'ol'"
      ]
     },
     "execution_count": 13,
     "metadata": {},
     "output_type": "execute_result"
    }
   ],
   "source": [
    "c[-2::-1]"
   ]
  },
  {
   "cell_type": "code",
   "execution_count": null,
   "id": "0d6255ec-7ea2-44d1-afec-5b9d1a5e593b",
   "metadata": {},
   "outputs": [],
   "source": []
  },
  {
   "cell_type": "code",
   "execution_count": null,
   "id": "f4450b38-d73c-4553-b2e9-6caeeda4eee1",
   "metadata": {},
   "outputs": [],
   "source": []
  },
  {
   "cell_type": "code",
   "execution_count": 14,
   "id": "0ff09925-a0d8-4271-89a0-2d2fce8af6a7",
   "metadata": {},
   "outputs": [],
   "source": [
    "s1=\"this is my string class\""
   ]
  },
  {
   "cell_type": "code",
   "execution_count": 15,
   "id": "fc47c3ba-08cc-4ede-9db3-e2b529f7b5e2",
   "metadata": {},
   "outputs": [
    {
     "data": {
      "text/plain": [
       "23"
      ]
     },
     "execution_count": 15,
     "metadata": {},
     "output_type": "execute_result"
    }
   ],
   "source": [
    "len(s1)"
   ]
  },
  {
   "cell_type": "code",
   "execution_count": 16,
   "id": "9915b5b0-d855-4cc4-9306-9e86f5eeaeaa",
   "metadata": {},
   "outputs": [
    {
     "data": {
      "text/plain": [
       "3"
      ]
     },
     "execution_count": 16,
     "metadata": {},
     "output_type": "execute_result"
    }
   ],
   "source": [
    "s1.find('s')"
   ]
  },
  {
   "cell_type": "code",
   "execution_count": 17,
   "id": "4d1d0847-7843-451e-9335-57859be7d983",
   "metadata": {},
   "outputs": [
    {
     "data": {
      "text/plain": [
       "2"
      ]
     },
     "execution_count": 17,
     "metadata": {},
     "output_type": "execute_result"
    }
   ],
   "source": [
    "s1.find('i')"
   ]
  },
  {
   "cell_type": "code",
   "execution_count": 18,
   "id": "8b67250b-a359-41d7-a478-987207bc5935",
   "metadata": {},
   "outputs": [
    {
     "data": {
      "text/plain": [
       "2"
      ]
     },
     "execution_count": 18,
     "metadata": {},
     "output_type": "execute_result"
    }
   ],
   "source": [
    "s1.find(\"is\")"
   ]
  },
  {
   "cell_type": "code",
   "execution_count": 19,
   "id": "038895ce-cc35-4418-805c-7469b9661ff2",
   "metadata": {},
   "outputs": [
    {
     "data": {
      "text/plain": [
       "-1"
      ]
     },
     "execution_count": 19,
     "metadata": {},
     "output_type": "execute_result"
    }
   ],
   "source": [
    "s1.find('iS')"
   ]
  },
  {
   "cell_type": "code",
   "execution_count": 20,
   "id": "feeedbc6-699d-4255-b688-549e398c6724",
   "metadata": {},
   "outputs": [
    {
     "data": {
      "text/plain": [
       "5"
      ]
     },
     "execution_count": 20,
     "metadata": {},
     "output_type": "execute_result"
    }
   ],
   "source": [
    "s1.count('s')"
   ]
  },
  {
   "cell_type": "code",
   "execution_count": 21,
   "id": "c5dd0e67-d67a-462e-9cb0-46283d519ff3",
   "metadata": {},
   "outputs": [
    {
     "data": {
      "text/plain": [
       "2"
      ]
     },
     "execution_count": 21,
     "metadata": {},
     "output_type": "execute_result"
    }
   ],
   "source": [
    "s1.count('is')"
   ]
  },
  {
   "cell_type": "code",
   "execution_count": 22,
   "id": "e14da580-7d90-471f-ae7c-b2f1714ba845",
   "metadata": {},
   "outputs": [
    {
     "data": {
      "text/plain": [
       "0"
      ]
     },
     "execution_count": 22,
     "metadata": {},
     "output_type": "execute_result"
    }
   ],
   "source": [
    "s1.count('z')"
   ]
  },
  {
   "cell_type": "code",
   "execution_count": null,
   "id": "5cc5d224-9891-4ed3-a2ea-7159789c6e85",
   "metadata": {},
   "outputs": [],
   "source": []
  },
  {
   "cell_type": "code",
   "execution_count": null,
   "id": "3cacd086-bcb6-4e9b-b63c-4cdc3bc04b84",
   "metadata": {},
   "outputs": [],
   "source": []
  },
  {
   "cell_type": "code",
   "execution_count": 24,
   "id": "1ac4750e-a586-46a3-8434-ea85ba57614b",
   "metadata": {},
   "outputs": [
    {
     "data": {
      "text/plain": [
       "'this is my string class'"
      ]
     },
     "execution_count": 24,
     "metadata": {},
     "output_type": "execute_result"
    }
   ],
   "source": [
    "s1"
   ]
  },
  {
   "cell_type": "code",
   "execution_count": 25,
   "id": "7c034aaf-f19b-40d3-8295-0f062d654a7e",
   "metadata": {},
   "outputs": [
    {
     "data": {
      "text/plain": [
       "'THIS IS MY STRING CLASS'"
      ]
     },
     "execution_count": 25,
     "metadata": {},
     "output_type": "execute_result"
    }
   ],
   "source": [
    "s1.upper()"
   ]
  },
  {
   "cell_type": "code",
   "execution_count": 26,
   "id": "a90b98da-d320-49ac-ad64-947ef5838d40",
   "metadata": {},
   "outputs": [],
   "source": [
    "s2=\"MY FAVOURIE FOOD IS STAPLE\""
   ]
  },
  {
   "cell_type": "code",
   "execution_count": 27,
   "id": "e989ec25-9a26-4431-81f9-a283551a5f58",
   "metadata": {},
   "outputs": [
    {
     "data": {
      "text/plain": [
       "'my favourie food is staple'"
      ]
     },
     "execution_count": 27,
     "metadata": {},
     "output_type": "execute_result"
    }
   ],
   "source": [
    "s2.lower()"
   ]
  },
  {
   "cell_type": "code",
   "execution_count": 28,
   "id": "14cd055d-4ad9-4223-b0a8-3df4c31c1d81",
   "metadata": {},
   "outputs": [
    {
     "data": {
      "text/plain": [
       "'this is my string class'"
      ]
     },
     "execution_count": 28,
     "metadata": {},
     "output_type": "execute_result"
    }
   ],
   "source": [
    "s1"
   ]
  },
  {
   "cell_type": "code",
   "execution_count": 29,
   "id": "9254c26f-3dab-47e7-92f3-d7c956c963a1",
   "metadata": {},
   "outputs": [
    {
     "data": {
      "text/plain": [
       "'This Is My String Class'"
      ]
     },
     "execution_count": 29,
     "metadata": {},
     "output_type": "execute_result"
    }
   ],
   "source": [
    "s1.title()"
   ]
  },
  {
   "cell_type": "code",
   "execution_count": 32,
   "id": "ad32b03a-b69f-4159-a31e-f75cc87a6d84",
   "metadata": {},
   "outputs": [],
   "source": [
    "a=\"pwskills\""
   ]
  },
  {
   "cell_type": "code",
   "execution_count": 33,
   "id": "b6ee2e73-458c-4ba2-8b64-c27f4178f077",
   "metadata": {},
   "outputs": [
    {
     "data": {
      "text/plain": [
       "'pwskills'"
      ]
     },
     "execution_count": 33,
     "metadata": {},
     "output_type": "execute_result"
    }
   ],
   "source": [
    "a"
   ]
  },
  {
   "cell_type": "code",
   "execution_count": 34,
   "id": "931191c0-95c9-4467-bbbd-31ac0fe2283a",
   "metadata": {},
   "outputs": [
    {
     "ename": "TypeError",
     "evalue": "can only concatenate str (not \"int\") to str",
     "output_type": "error",
     "traceback": [
      "\u001b[0;31m---------------------------------------------------------------------------\u001b[0m",
      "\u001b[0;31mTypeError\u001b[0m                                 Traceback (most recent call last)",
      "Cell \u001b[0;32mIn[34], line 1\u001b[0m\n\u001b[0;32m----> 1\u001b[0m \u001b[43ma\u001b[49m\u001b[38;5;241;43m+\u001b[39;49m\u001b[38;5;241;43m1\u001b[39;49m\n",
      "\u001b[0;31mTypeError\u001b[0m: can only concatenate str (not \"int\") to str"
     ]
    }
   ],
   "source": [
    "a+1"
   ]
  },
  {
   "cell_type": "code",
   "execution_count": 35,
   "id": "f60ee094-4c3a-421b-ae1e-b43b69586fd8",
   "metadata": {},
   "outputs": [
    {
     "data": {
      "text/plain": [
       "'pwskills1'"
      ]
     },
     "execution_count": 35,
     "metadata": {},
     "output_type": "execute_result"
    }
   ],
   "source": [
    "a+'1'"
   ]
  },
  {
   "cell_type": "code",
   "execution_count": 36,
   "id": "34ed51b3-1dd0-41a3-b056-1b4853ab227b",
   "metadata": {},
   "outputs": [
    {
     "data": {
      "text/plain": [
       "'pwskills2'"
      ]
     },
     "execution_count": 36,
     "metadata": {},
     "output_type": "execute_result"
    }
   ],
   "source": [
    "a+str(2)"
   ]
  },
  {
   "cell_type": "code",
   "execution_count": 37,
   "id": "78004c58-e5b0-4cf8-8ecb-b304ba804149",
   "metadata": {},
   "outputs": [
    {
     "data": {
      "text/plain": [
       "'pwskills bangalore'"
      ]
     },
     "execution_count": 37,
     "metadata": {},
     "output_type": "execute_result"
    }
   ],
   "source": [
    "a+\" bangalore\""
   ]
  },
  {
   "cell_type": "code",
   "execution_count": 38,
   "id": "50143aa0-444a-4b2e-88b9-98f7e01f526a",
   "metadata": {},
   "outputs": [
    {
     "data": {
      "text/plain": [
       "'pwskillspwskillspwskills'"
      ]
     },
     "execution_count": 38,
     "metadata": {},
     "output_type": "execute_result"
    }
   ],
   "source": [
    "a*3"
   ]
  },
  {
   "cell_type": "code",
   "execution_count": 40,
   "id": "84448e53-2755-4975-a6a5-92a8b205bd15",
   "metadata": {},
   "outputs": [
    {
     "data": {
      "text/plain": [
       "'pwskillspwskillspwskillspwskillspwskills'"
      ]
     },
     "execution_count": 40,
     "metadata": {},
     "output_type": "execute_result"
    }
   ],
   "source": [
    "a* 5"
   ]
  },
  {
   "cell_type": "code",
   "execution_count": 42,
   "id": "1ed7f29c-c1d3-421d-a80d-f1e31aa137c5",
   "metadata": {},
   "outputs": [
    {
     "data": {
      "text/plain": [
       "'muralimurali'"
      ]
     },
     "execution_count": 42,
     "metadata": {},
     "output_type": "execute_result"
    }
   ],
   "source": [
    "\"murali\"*2"
   ]
  },
  {
   "cell_type": "code",
   "execution_count": 43,
   "id": "be938a62-7f85-45ef-ab4a-972fd5dae03b",
   "metadata": {},
   "outputs": [
    {
     "ename": "TypeError",
     "evalue": "unsupported operand type(s) for /: 'str' and 'int'",
     "output_type": "error",
     "traceback": [
      "\u001b[0;31m---------------------------------------------------------------------------\u001b[0m",
      "\u001b[0;31mTypeError\u001b[0m                                 Traceback (most recent call last)",
      "Cell \u001b[0;32mIn[43], line 1\u001b[0m\n\u001b[0;32m----> 1\u001b[0m \u001b[38;5;124;43m\"\u001b[39;49m\u001b[38;5;124;43mmurali\u001b[39;49m\u001b[38;5;124;43m\"\u001b[39;49m\u001b[38;5;241;43m/\u001b[39;49m\u001b[38;5;241;43m2\u001b[39;49m\n",
      "\u001b[0;31mTypeError\u001b[0m: unsupported operand type(s) for /: 'str' and 'int'"
     ]
    }
   ],
   "source": [
    "\"murali\"/2"
   ]
  },
  {
   "cell_type": "code",
   "execution_count": 47,
   "id": "1ec5b51e-a74c-4f47-ad05-7b94716c401c",
   "metadata": {},
   "outputs": [
    {
     "data": {
      "text/plain": [
       "'murali 2'"
      ]
     },
     "execution_count": 47,
     "metadata": {},
     "output_type": "execute_result"
    }
   ],
   "source": [
    "\"murali\"+\" 2\""
   ]
  },
  {
   "cell_type": "code",
   "execution_count": 48,
   "id": "b8c85d68-0373-428f-a172-643c62c1a91a",
   "metadata": {},
   "outputs": [
    {
     "ename": "SyntaxError",
     "evalue": "unterminated string literal (detected at line 1) (1638176151.py, line 1)",
     "output_type": "error",
     "traceback": [
      "\u001b[0;36m  Cell \u001b[0;32mIn[48], line 1\u001b[0;36m\u001b[0m\n\u001b[0;31m    'don't copy the home work'\u001b[0m\n\u001b[0m                             ^\u001b[0m\n\u001b[0;31mSyntaxError\u001b[0m\u001b[0;31m:\u001b[0m unterminated string literal (detected at line 1)\n"
     ]
    }
   ],
   "source": [
    "'don't copy the home work'"
   ]
  },
  {
   "cell_type": "code",
   "execution_count": 50,
   "id": "e234d09e-4edf-47c9-be3d-c7cd398c825b",
   "metadata": {},
   "outputs": [
    {
     "data": {
      "text/plain": [
       "\"don't copy the home work\""
      ]
     },
     "execution_count": 50,
     "metadata": {},
     "output_type": "execute_result"
    }
   ],
   "source": [
    "\"don't copy the home work\""
   ]
  },
  {
   "cell_type": "code",
   "execution_count": 52,
   "id": "ae43258e-5917-4d99-8fca-0c640b381351",
   "metadata": {},
   "outputs": [
    {
     "data": {
      "text/plain": [
       "'don\"t copy the home work'"
      ]
     },
     "execution_count": 52,
     "metadata": {},
     "output_type": "execute_result"
    }
   ],
   "source": [
    "'don\"t copy the home work'"
   ]
  },
  {
   "cell_type": "code",
   "execution_count": 56,
   "id": "d50e850f-853a-4afb-918f-e6c4f03882e2",
   "metadata": {},
   "outputs": [],
   "source": [
    "#this is not possible due to lack and time"
   ]
  },
  {
   "cell_type": "code",
   "execution_count": 59,
   "id": "e6988af6-e9a2-4c78-8c77-2e647a29e31f",
   "metadata": {},
   "outputs": [],
   "source": [
    "b = \"\"\"this is not possible due to lack and time\n",
    "this is not possible due to lack and time\n",
    "this is not possible due to lack and time\n",
    "this is not possible due to lack and time\"\"\""
   ]
  },
  {
   "cell_type": "code",
   "execution_count": 65,
   "id": "70febb8f-6bca-41e9-b053-9a19e0c0e34f",
   "metadata": {},
   "outputs": [
    {
     "ename": "NameError",
     "evalue": "name 'b' is not defined",
     "output_type": "error",
     "traceback": [
      "\u001b[0;31m---------------------------------------------------------------------------\u001b[0m",
      "\u001b[0;31mNameError\u001b[0m                                 Traceback (most recent call last)",
      "Cell \u001b[0;32mIn[65], line 1\u001b[0m\n\u001b[0;32m----> 1\u001b[0m \u001b[43mb\u001b[49m(\u001b[38;5;28mtype\u001b[39m)\n",
      "\u001b[0;31mNameError\u001b[0m: name 'b' is not defined"
     ]
    }
   ],
   "source": [
    "b(type)"
   ]
  },
  {
   "cell_type": "code",
   "execution_count": 66,
   "id": "f6f23a12-6175-4eb5-80f7-f035bfb2c8f3",
   "metadata": {},
   "outputs": [
    {
     "data": {
      "text/plain": [
       "'i know what are doing right pllace in the presence of the stakc\\ni know what are doing right pllace in the presence of the stakc\\ni know what are doing right pllace in the presence of the stakc'"
      ]
     },
     "execution_count": 66,
     "metadata": {},
     "output_type": "execute_result"
    }
   ],
   "source": [
    "t=\"\"\"i know what are doing right pllace in the presence of the stakc\n",
    "i know what are doing right pllace in the presence of the stakc\n",
    "i know what are doing right pllace in the presence of the stakc\"\"\""
   ]
  },
  {
   "cell_type": "code",
   "execution_count": 68,
   "id": "9eca9779-8a35-42ed-b9d2-c94172c8dfea",
   "metadata": {},
   "outputs": [],
   "source": [
    "a=\"sdfdj\""
   ]
  },
  {
   "cell_type": "code",
   "execution_count": 69,
   "id": "e0749e00-f65d-4762-addc-9e35d5f831b4",
   "metadata": {},
   "outputs": [
    {
     "data": {
      "text/plain": [
       "'sdfdj'"
      ]
     },
     "execution_count": 69,
     "metadata": {},
     "output_type": "execute_result"
    }
   ],
   "source": [
    "a"
   ]
  },
  {
   "cell_type": "code",
   "execution_count": 70,
   "id": "ebbe0340-077a-4f7f-867f-0e34b7157a48",
   "metadata": {},
   "outputs": [],
   "source": [
    "t=\"\"\"i know what are doing right pllace in the presence of the stakc\n",
    "i know what are doing right pllace in the presence of the stakc\n",
    "i know what are doing right pllace in the presence of the stakc\"\"\""
   ]
  },
  {
   "cell_type": "code",
   "execution_count": 71,
   "id": "5cba45fb-0b97-49d7-a334-b0dbc0a8b2b7",
   "metadata": {},
   "outputs": [
    {
     "data": {
      "text/plain": [
       "'i know what are doing right pllace in the presence of the stakc\\ni know what are doing right pllace in the presence of the stakc\\ni know what are doing right pllace in the presence of the stakc'"
      ]
     },
     "execution_count": 71,
     "metadata": {},
     "output_type": "execute_result"
    }
   ],
   "source": [
    "t"
   ]
  },
  {
   "cell_type": "code",
   "execution_count": null,
   "id": "1802d896-d47f-438b-8aa2-3df0ec8a7815",
   "metadata": {},
   "outputs": [],
   "source": []
  },
  {
   "cell_type": "code",
   "execution_count": null,
   "id": "e1836300-23e0-4d42-b665-e09ab982301f",
   "metadata": {},
   "outputs": [],
   "source": []
  },
  {
   "cell_type": "code",
   "execution_count": null,
   "id": "dc90b0ba-7383-42e3-aaf5-685050a7824b",
   "metadata": {},
   "outputs": [],
   "source": [
    "             #completed"
   ]
  }
 ],
 "metadata": {
  "kernelspec": {
   "display_name": "Python 3 (ipykernel)",
   "language": "python",
   "name": "python3"
  },
  "language_info": {
   "codemirror_mode": {
    "name": "ipython",
    "version": 3
   },
   "file_extension": ".py",
   "mimetype": "text/x-python",
   "name": "python",
   "nbconvert_exporter": "python",
   "pygments_lexer": "ipython3",
   "version": "3.10.8"
  }
 },
 "nbformat": 4,
 "nbformat_minor": 5
}
